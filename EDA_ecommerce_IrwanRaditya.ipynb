{
 "cells": [
  {
   "cell_type": "code",
   "execution_count": 1,
   "metadata": {},
   "outputs": [],
   "source": [
    "import requests\n",
    "import pandas as pd\n",
    "import numpy as np\n",
    "from bs4 import BeautifulSoup\n",
    "\n",
    "import matplotlib.pyplot as plt\n",
    "import seaborn as sns\n",
    "\n",
    "import statistics as st\n",
    "from scipy import stats\n",
    "from scipy.stats import norm"
   ]
  },
  {
   "cell_type": "markdown",
   "metadata": {},
   "source": [
    "## Input Data"
   ]
  },
  {
   "cell_type": "code",
   "execution_count": 2,
   "metadata": {},
   "outputs": [
    {
     "data": {
      "text/html": [
       "<div>\n",
       "<style scoped>\n",
       "    .dataframe tbody tr th:only-of-type {\n",
       "        vertical-align: middle;\n",
       "    }\n",
       "\n",
       "    .dataframe tbody tr th {\n",
       "        vertical-align: top;\n",
       "    }\n",
       "\n",
       "    .dataframe thead th {\n",
       "        text-align: right;\n",
       "    }\n",
       "</style>\n",
       "<table border=\"1\" class=\"dataframe\">\n",
       "  <thead>\n",
       "    <tr style=\"text-align: right;\">\n",
       "      <th></th>\n",
       "      <th>Unnamed: 0</th>\n",
       "      <th>category</th>\n",
       "      <th>product</th>\n",
       "      <th>Original_price</th>\n",
       "      <th>price</th>\n",
       "      <th>perc_of_unit_sold</th>\n",
       "      <th>rating</th>\n",
       "      <th>shpping_rate</th>\n",
       "      <th>gender</th>\n",
       "    </tr>\n",
       "  </thead>\n",
       "  <tbody>\n",
       "    <tr>\n",
       "      <th>0</th>\n",
       "      <td>0</td>\n",
       "      <td>Athletic Shoes</td>\n",
       "      <td>Nike SB Check Solar Cnvs Skateboarding Shoes f...</td>\n",
       "      <td>299.0</td>\n",
       "      <td>211.48</td>\n",
       "      <td>94.0</td>\n",
       "      <td>100.0</td>\n",
       "      <td>FREE Shipping</td>\n",
       "      <td>men</td>\n",
       "    </tr>\n",
       "    <tr>\n",
       "      <th>1</th>\n",
       "      <td>1</td>\n",
       "      <td>Athletic Shoes</td>\n",
       "      <td>Nike Md Runner 2 Two-Tone Textile-Mesh Suede-A...</td>\n",
       "      <td>349.0</td>\n",
       "      <td>289.99</td>\n",
       "      <td>80.0</td>\n",
       "      <td>88.0</td>\n",
       "      <td>FREE Shipping</td>\n",
       "      <td>men</td>\n",
       "    </tr>\n",
       "    <tr>\n",
       "      <th>2</th>\n",
       "      <td>2</td>\n",
       "      <td>Athletic Shoes</td>\n",
       "      <td>Nike air Heights Sneaker for Women , Size 38 E...</td>\n",
       "      <td>419.0</td>\n",
       "      <td>337.48</td>\n",
       "      <td>77.0</td>\n",
       "      <td>NaN</td>\n",
       "      <td>FREE Shipping</td>\n",
       "      <td>women</td>\n",
       "    </tr>\n",
       "    <tr>\n",
       "      <th>3</th>\n",
       "      <td>3</td>\n",
       "      <td>Athletic Shoes</td>\n",
       "      <td>Nike Fitness Shoes For Men , 43 EU , Black</td>\n",
       "      <td>319.0</td>\n",
       "      <td>211.48</td>\n",
       "      <td>76.0</td>\n",
       "      <td>80.0</td>\n",
       "      <td>FREE Shipping</td>\n",
       "      <td>men</td>\n",
       "    </tr>\n",
       "    <tr>\n",
       "      <th>4</th>\n",
       "      <td>4</td>\n",
       "      <td>Athletic Shoes</td>\n",
       "      <td>adidas ASWEERUN Sneaker for Mens, Grey - Size ...</td>\n",
       "      <td>259.0</td>\n",
       "      <td>194.99</td>\n",
       "      <td>94.0</td>\n",
       "      <td>NaN</td>\n",
       "      <td>Eligible for FREE Shipping</td>\n",
       "      <td>men</td>\n",
       "    </tr>\n",
       "    <tr>\n",
       "      <th>...</th>\n",
       "      <td>...</td>\n",
       "      <td>...</td>\n",
       "      <td>...</td>\n",
       "      <td>...</td>\n",
       "      <td>...</td>\n",
       "      <td>...</td>\n",
       "      <td>...</td>\n",
       "      <td>...</td>\n",
       "      <td>...</td>\n",
       "    </tr>\n",
       "    <tr>\n",
       "      <th>604</th>\n",
       "      <td>175</td>\n",
       "      <td>Watches</td>\n",
       "      <td>JBW Delmare Men's 4 Genuine Diamonds Silicone ...</td>\n",
       "      <td>2624.0</td>\n",
       "      <td>575.99</td>\n",
       "      <td>72.0</td>\n",
       "      <td>92.0</td>\n",
       "      <td>FREE Shipping</td>\n",
       "      <td>men</td>\n",
       "    </tr>\n",
       "    <tr>\n",
       "      <th>605</th>\n",
       "      <td>176</td>\n",
       "      <td>Watches</td>\n",
       "      <td>Michael Kors Lexington Women's White Dial Stai...</td>\n",
       "      <td>762.0</td>\n",
       "      <td>564.98</td>\n",
       "      <td>28.0</td>\n",
       "      <td>76.0</td>\n",
       "      <td>FREE Shipping</td>\n",
       "      <td>women</td>\n",
       "    </tr>\n",
       "    <tr>\n",
       "      <th>606</th>\n",
       "      <td>177</td>\n",
       "      <td>Watches</td>\n",
       "      <td>Puma Casual Watch For Men Analog Stainless Ste...</td>\n",
       "      <td>679.0</td>\n",
       "      <td>262.98</td>\n",
       "      <td>67.0</td>\n",
       "      <td>94.0</td>\n",
       "      <td>FREE Shipping</td>\n",
       "      <td>men</td>\n",
       "    </tr>\n",
       "    <tr>\n",
       "      <th>607</th>\n",
       "      <td>178</td>\n",
       "      <td>Watches</td>\n",
       "      <td>T5 Watch For Men [Rubber,Chronograph]-H3397G-B</td>\n",
       "      <td>440.0</td>\n",
       "      <td>115.49</td>\n",
       "      <td>40.0</td>\n",
       "      <td>86.0</td>\n",
       "      <td>Eligible for FREE Shipping</td>\n",
       "      <td>men</td>\n",
       "    </tr>\n",
       "    <tr>\n",
       "      <th>608</th>\n",
       "      <td>179</td>\n",
       "      <td>Watches</td>\n",
       "      <td>Tissot Dress Watch For Women Analog Stainless ...</td>\n",
       "      <td>1740.0</td>\n",
       "      <td>960.49</td>\n",
       "      <td>20.0</td>\n",
       "      <td>NaN</td>\n",
       "      <td>FREE Shipping</td>\n",
       "      <td>women</td>\n",
       "    </tr>\n",
       "  </tbody>\n",
       "</table>\n",
       "<p>609 rows × 9 columns</p>\n",
       "</div>"
      ],
      "text/plain": [
       "     Unnamed: 0        category  \\\n",
       "0             0  Athletic Shoes   \n",
       "1             1  Athletic Shoes   \n",
       "2             2  Athletic Shoes   \n",
       "3             3  Athletic Shoes   \n",
       "4             4  Athletic Shoes   \n",
       "..          ...             ...   \n",
       "604         175         Watches   \n",
       "605         176         Watches   \n",
       "606         177         Watches   \n",
       "607         178         Watches   \n",
       "608         179         Watches   \n",
       "\n",
       "                                               product  Original_price  \\\n",
       "0    Nike SB Check Solar Cnvs Skateboarding Shoes f...           299.0   \n",
       "1    Nike Md Runner 2 Two-Tone Textile-Mesh Suede-A...           349.0   \n",
       "2    Nike air Heights Sneaker for Women , Size 38 E...           419.0   \n",
       "3           Nike Fitness Shoes For Men , 43 EU , Black           319.0   \n",
       "4    adidas ASWEERUN Sneaker for Mens, Grey - Size ...           259.0   \n",
       "..                                                 ...             ...   \n",
       "604  JBW Delmare Men's 4 Genuine Diamonds Silicone ...          2624.0   \n",
       "605  Michael Kors Lexington Women's White Dial Stai...           762.0   \n",
       "606  Puma Casual Watch For Men Analog Stainless Ste...           679.0   \n",
       "607     T5 Watch For Men [Rubber,Chronograph]-H3397G-B           440.0   \n",
       "608  Tissot Dress Watch For Women Analog Stainless ...          1740.0   \n",
       "\n",
       "      price  perc_of_unit_sold  rating                shpping_rate gender  \n",
       "0    211.48               94.0   100.0               FREE Shipping    men  \n",
       "1    289.99               80.0    88.0               FREE Shipping    men  \n",
       "2    337.48               77.0     NaN               FREE Shipping  women  \n",
       "3    211.48               76.0    80.0               FREE Shipping    men  \n",
       "4    194.99               94.0     NaN  Eligible for FREE Shipping    men  \n",
       "..      ...                ...     ...                         ...    ...  \n",
       "604  575.99               72.0    92.0               FREE Shipping    men  \n",
       "605  564.98               28.0    76.0               FREE Shipping  women  \n",
       "606  262.98               67.0    94.0               FREE Shipping    men  \n",
       "607  115.49               40.0    86.0  Eligible for FREE Shipping    men  \n",
       "608  960.49               20.0     NaN               FREE Shipping  women  \n",
       "\n",
       "[609 rows x 9 columns]"
      ]
     },
     "execution_count": 2,
     "metadata": {},
     "output_type": "execute_result"
    }
   ],
   "source": [
    "df = pd.read_csv(\"ecommerce.csv\")\n",
    "df"
   ]
  },
  {
   "cell_type": "code",
   "execution_count": 3,
   "metadata": {},
   "outputs": [
    {
     "data": {
      "text/html": [
       "<div>\n",
       "<style scoped>\n",
       "    .dataframe tbody tr th:only-of-type {\n",
       "        vertical-align: middle;\n",
       "    }\n",
       "\n",
       "    .dataframe tbody tr th {\n",
       "        vertical-align: top;\n",
       "    }\n",
       "\n",
       "    .dataframe thead th {\n",
       "        text-align: right;\n",
       "    }\n",
       "</style>\n",
       "<table border=\"1\" class=\"dataframe\">\n",
       "  <thead>\n",
       "    <tr style=\"text-align: right;\">\n",
       "      <th></th>\n",
       "      <th>Unnamed: 0</th>\n",
       "      <th>Original_price</th>\n",
       "      <th>price</th>\n",
       "      <th>perc_of_unit_sold</th>\n",
       "      <th>rating</th>\n",
       "    </tr>\n",
       "  </thead>\n",
       "  <tbody>\n",
       "    <tr>\n",
       "      <th>count</th>\n",
       "      <td>609.000000</td>\n",
       "      <td>583.000000</td>\n",
       "      <td>609.000000</td>\n",
       "      <td>522.000000</td>\n",
       "      <td>427.000000</td>\n",
       "    </tr>\n",
       "    <tr>\n",
       "      <th>mean</th>\n",
       "      <td>60.072250</td>\n",
       "      <td>864.498113</td>\n",
       "      <td>339.434039</td>\n",
       "      <td>57.678161</td>\n",
       "      <td>87.807963</td>\n",
       "    </tr>\n",
       "    <tr>\n",
       "      <th>std</th>\n",
       "      <td>47.287663</td>\n",
       "      <td>1803.365527</td>\n",
       "      <td>285.416406</td>\n",
       "      <td>25.434947</td>\n",
       "      <td>11.422350</td>\n",
       "    </tr>\n",
       "    <tr>\n",
       "      <th>min</th>\n",
       "      <td>0.000000</td>\n",
       "      <td>42.000000</td>\n",
       "      <td>21.400000</td>\n",
       "      <td>2.000000</td>\n",
       "      <td>20.000000</td>\n",
       "    </tr>\n",
       "    <tr>\n",
       "      <th>25%</th>\n",
       "      <td>21.000000</td>\n",
       "      <td>273.000000</td>\n",
       "      <td>140.980000</td>\n",
       "      <td>36.250000</td>\n",
       "      <td>82.000000</td>\n",
       "    </tr>\n",
       "    <tr>\n",
       "      <th>50%</th>\n",
       "      <td>46.000000</td>\n",
       "      <td>499.000000</td>\n",
       "      <td>262.490000</td>\n",
       "      <td>60.000000</td>\n",
       "      <td>88.000000</td>\n",
       "    </tr>\n",
       "    <tr>\n",
       "      <th>75%</th>\n",
       "      <td>92.000000</td>\n",
       "      <td>980.000000</td>\n",
       "      <td>444.990000</td>\n",
       "      <td>79.000000</td>\n",
       "      <td>96.000000</td>\n",
       "    </tr>\n",
       "    <tr>\n",
       "      <th>max</th>\n",
       "      <td>179.000000</td>\n",
       "      <td>29970.000000</td>\n",
       "      <td>3220.000000</td>\n",
       "      <td>99.000000</td>\n",
       "      <td>100.000000</td>\n",
       "    </tr>\n",
       "  </tbody>\n",
       "</table>\n",
       "</div>"
      ],
      "text/plain": [
       "       Unnamed: 0  Original_price        price  perc_of_unit_sold      rating\n",
       "count  609.000000      583.000000   609.000000         522.000000  427.000000\n",
       "mean    60.072250      864.498113   339.434039          57.678161   87.807963\n",
       "std     47.287663     1803.365527   285.416406          25.434947   11.422350\n",
       "min      0.000000       42.000000    21.400000           2.000000   20.000000\n",
       "25%     21.000000      273.000000   140.980000          36.250000   82.000000\n",
       "50%     46.000000      499.000000   262.490000          60.000000   88.000000\n",
       "75%     92.000000      980.000000   444.990000          79.000000   96.000000\n",
       "max    179.000000    29970.000000  3220.000000          99.000000  100.000000"
      ]
     },
     "execution_count": 3,
     "metadata": {},
     "output_type": "execute_result"
    }
   ],
   "source": [
    "df.describe()"
   ]
  },
  {
   "cell_type": "code",
   "execution_count": 4,
   "metadata": {},
   "outputs": [
    {
     "name": "stdout",
     "output_type": "stream",
     "text": [
      "<class 'pandas.core.frame.DataFrame'>\n",
      "RangeIndex: 609 entries, 0 to 608\n",
      "Data columns (total 9 columns):\n",
      " #   Column             Non-Null Count  Dtype  \n",
      "---  ------             --------------  -----  \n",
      " 0   Unnamed: 0         609 non-null    int64  \n",
      " 1   category           609 non-null    object \n",
      " 2   product            609 non-null    object \n",
      " 3   Original_price     583 non-null    float64\n",
      " 4   price              609 non-null    float64\n",
      " 5   perc_of_unit_sold  522 non-null    float64\n",
      " 6   rating             427 non-null    float64\n",
      " 7   shpping_rate       567 non-null    object \n",
      " 8   gender             581 non-null    object \n",
      "dtypes: float64(4), int64(1), object(4)\n",
      "memory usage: 42.9+ KB\n"
     ]
    }
   ],
   "source": [
    "df.info()"
   ]
  },
  {
   "cell_type": "code",
   "execution_count": 5,
   "metadata": {
    "scrolled": true
   },
   "outputs": [
    {
     "name": "stdout",
     "output_type": "stream",
     "text": [
      "864.4981132075472\n",
      "499.0\n",
      "0    250.0\n",
      "dtype: float64\n",
      "3252127.222960352\n",
      "1803.3655267195145\n"
     ]
    }
   ],
   "source": [
    "print(df['Original_price'].mean())\n",
    "print(df['Original_price'].median())\n",
    "print(df['Original_price'].mode())\n",
    "print(df['Original_price'].var())\n",
    "print(df['Original_price'].std())"
   ]
  },
  {
   "cell_type": "markdown",
   "metadata": {},
   "source": [
    "## Business Problem"
   ]
  },
  {
   "cell_type": "markdown",
   "metadata": {},
   "source": [
    "Dari data yang sudah dilihat bahwa terdapat beberapa nilai NaN pada kolom Rating, hal tersebut menarik bagi saya untuk diteliti lebih lanjut bahwa apa saja yang mempengaruhi rating produk dari ecommerce tersebut"
   ]
  },
  {
   "cell_type": "markdown",
   "metadata": {},
   "source": [
    "## EDA Goals"
   ]
  },
  {
   "cell_type": "markdown",
   "metadata": {},
   "source": [
    "Tujuan saya pada EDA disini adalah untuk mengetahui apa yang mempengaruhi rating pada produk-produk yang dijual oleh ecommerce tersebut"
   ]
  },
  {
   "cell_type": "markdown",
   "metadata": {},
   "source": [
    "## Descriptive Analysis"
   ]
  },
  {
   "cell_type": "markdown",
   "metadata": {},
   "source": [
    "1.Price\n",
    "\n",
    "Central Tendency\n",
    "\n",
    "1) nilai mean price sebesar : 339.43403940886736 yang dapat diartikan nilai rata-rata pada kolom price yang berjumlah 608 data\n",
    "\n",
    "2) nilai median price sebesar : 262.49 yang berada pada titik tengah pesebaran data yang berjumlah 608 data (berada pada range 50% dari keseluruhan data)\n",
    "\n",
    "3) nilai mode sebesar : 194.991 , 211.48 , 409.49 yang dapat diartikan bahwa nilai-nilai tersebut bisa dikatan memiliki frequensi yang paling besar dari nilai yang lain atau sering muncul\n",
    "\n",
    "Dispersion\n",
    "\n",
    "1) nilai variance sebesar : 81462.5250066826 menunjukan bahwa total keragaman atau variasi yang data pada distribusi kolom price sebesar 81462.5250066826\n",
    "\n",
    "2) nilai std sebesar  : 285.4164063376221 nilai tersebut menunjukan jarak perbedaan/selisih dari setiap data terhadap mean yang ada\n",
    "\n",
    "2.Unit Sold\n",
    "\n",
    "Central Tendency\n",
    "\n",
    "1) nilai mean price sebesar : 57.67816091954023 yang dapat diartikan nilai rata-rata pada kolom price yang berjumlah 608 data\n",
    "\n",
    "2) nilai median price sebesar : 60.0 yang berada pada titik tengah pesebaran data yang berjumlah 608 data (berada pada range 50% dari keseluruhan data)\n",
    "\n",
    "3) nilai mode sebesar : 50.0 yang dapat diartikan bahwa nilai-nilai tersebut bisa dikatan memiliki frequensi yang paling besar dari nilai yang lain atau sering muncul\n",
    "\n",
    "Dispersion\n",
    "\n",
    "1) nilai variance sebesar : 646.9365278972799 menunjukan bahwa total keragaman atau variasi yang data pada distribusi kolom price sebesar 646.9365278972799\n",
    "\n",
    "2) nilai std sebesar  : 25.434946980429896 nilai tersebut menunjukan jarak perbedaan/selisih dari setiap data terhadap mean yang ada\n",
    "\n",
    "3.Rating\n",
    "\n",
    "Central Tendency\n",
    "\n",
    "1) nilai mean price sebesar : 87.80796252927401 yang dapat diartikan nilai rata-rata pada kolom price yang berjumlah 608 data\n",
    "\n",
    "2) nilai median price sebesar :88.0 yang berada pada titik tengah pesebaran data yang berjumlah 608 data (berada pada range 50% dari keseluruhan data)\n",
    "\n",
    "3) nilai mode sebesar : 100.0 yang dapat diartikan bahwa nilai-nilai tersebut bisa dikatan memiliki frequensi yang paling besar dari nilai yang lain atau sering muncul\n",
    "\n",
    "Dispersion\n",
    "\n",
    "1) nilai variance sebesar : 130.47007729436785 menunjukan bahwa total keragaman atau variasi yang data pada distribusi kolom price sebesar 130.47007729436785\n",
    "\n",
    "2) nilai std sebesar  : 11.422349902466124 nilai tersebut menunjukan jarak perbedaan/selisih dari setiap data terhadap mean yang ada\n",
    "\n",
    "4.Original Price\n",
    "\n",
    "Central Tendency\n",
    "\n",
    "1) nilai mean price sebesar : 864.4981132075472 yang dapat diartikan nilai rata-rata pada kolom price yang berjumlah 608 data\n",
    "\n",
    "2) nilai median price sebesar : 499.0 yang berada pada titik tengah pesebaran data yang berjumlah 608 data (berada pada range 50% dari keseluruhan data)\n",
    "\n",
    "3) nilai mode sebesar : 250.0 yang dapat diartikan bahwa nilai-nilai tersebut bisa dikatan memiliki frequensi yang paling besar dari nilai yang lain atau sering muncul\n",
    "\n",
    "Dispersion\n",
    "\n",
    "1) nilai variance sebesar : 3252127.222960352 menunjukan bahwa total keragaman atau variasi yang data pada distribusi kolom price sebesar 3252127.222960352\n",
    "\n",
    "2) nilai std sebesar  : 1803.3655267195145 nilai tersebut menunjukan jarak perbedaan/selisih dari setiap data terhadap mean yang ada"
   ]
  },
  {
   "cell_type": "markdown",
   "metadata": {},
   "source": [
    "## Distribution"
   ]
  },
  {
   "cell_type": "code",
   "execution_count": 6,
   "metadata": {
    "scrolled": false
   },
   "outputs": [
    {
     "name": "stdout",
     "output_type": "stream",
     "text": [
      "normal skewtest teststat = 16.541 pvalue = 0.0000\n",
      "normal skewtest teststat =    nan pvalue =    nan\n",
      "normal skewtest teststat =    nan pvalue =    nan\n",
      "normal skewtest teststat =    nan pvalue =    nan\n"
     ]
    },
    {
     "name": "stderr",
     "output_type": "stream",
     "text": [
      "D:\\anaconda3\\lib\\site-packages\\scipy\\stats\\_distn_infrastructure.py:903: RuntimeWarning: invalid value encountered in greater\n",
      "  return (a < x) & (x < b)\n",
      "D:\\anaconda3\\lib\\site-packages\\scipy\\stats\\_distn_infrastructure.py:903: RuntimeWarning: invalid value encountered in less\n",
      "  return (a < x) & (x < b)\n",
      "D:\\anaconda3\\lib\\site-packages\\scipy\\stats\\_distn_infrastructure.py:1912: RuntimeWarning: invalid value encountered in less_equal\n",
      "  cond2 = cond0 & (x <= _a)\n"
     ]
    }
   ],
   "source": [
    "stats.skewtest(df[['price', 'perc_of_unit_sold', 'rating','Original_price']])\n",
    "print(f'normal skewtest teststat = %6.3f pvalue = %6.4f' % stats.skewtest(df['price']))\n",
    "print(f'normal skewtest teststat = %6.3f pvalue = %6.4f' % stats.skewtest(df['perc_of_unit_sold']))\n",
    "print(f'normal skewtest teststat = %6.3f pvalue = %6.4f' % stats.skewtest(df['rating']))\n",
    "print(f'normal skewtest teststat = %6.3f pvalue = %6.4f' % stats.skewtest(df['Original_price']))"
   ]
  },
  {
   "cell_type": "code",
   "execution_count": 7,
   "metadata": {},
   "outputs": [
    {
     "name": "stderr",
     "output_type": "stream",
     "text": [
      "D:\\anaconda3\\lib\\site-packages\\scipy\\stats\\stats.py:1548: RuntimeWarning: invalid value encountered in sign\n",
      "  term2 = np.sign(denom) * np.where(denom == 0.0, np.nan,\n"
     ]
    }
   ],
   "source": [
    "n, p = stats.normaltest(df['price'])\n",
    "n, p = stats.normaltest(df['perc_of_unit_sold'])\n",
    "n, p = stats.normaltest(df['rating'])\n",
    "n, p = stats.normaltest(df['Original_price'])"
   ]
  },
  {
   "cell_type": "code",
   "execution_count": 8,
   "metadata": {},
   "outputs": [
    {
     "name": "stdout",
     "output_type": "stream",
     "text": [
      "Kolom price Tidak Terdistribusi Normal\n",
      "Kolom perc_of_unit_sold Terdistribusi Normal\n",
      "Kolom rating Terdistribusi Normal\n",
      "Kolom Original_price Terdistribusi Normal\n"
     ]
    }
   ],
   "source": [
    "alpha = 0.001\n",
    "for i in ['price', 'perc_of_unit_sold', 'rating', 'Original_price']:\n",
    "    teststat1, p = stats.normaltest(df[i])\n",
    "    if p < alpha:  # null hypothesis: x comes from a normal distribution\n",
    "        print(f'Kolom {i} Tidak Terdistribusi Normal')\n",
    "    else:\n",
    "        print(f'Kolom {i} Terdistribusi Normal')"
   ]
  },
  {
   "cell_type": "markdown",
   "metadata": {},
   "source": [
    "## Outliers"
   ]
  },
  {
   "cell_type": "code",
   "execution_count": 9,
   "metadata": {},
   "outputs": [],
   "source": [
    "def cari_outlier(yourList):\n",
    "    q1 = yourList.describe()['25%']\n",
    "    q2 = yourList.describe()['50%']\n",
    "    q3 = yourList.describe()['75%']\n",
    "    iqr = q3 - q1\n",
    "    batas_bawah = q1 - 1.5 * iqr\n",
    "    batas_atas = q3 + 1.5 * iqr\n",
    "    outlier = []\n",
    "    for i in yourList:\n",
    "        if i < batas_bawah or i > batas_atas:\n",
    "            outlier.append(i)\n",
    "    return outlier"
   ]
  },
  {
   "cell_type": "code",
   "execution_count": 10,
   "metadata": {
    "scrolled": true
   },
   "outputs": [
    {
     "data": {
      "text/plain": [
       "[976.98,\n",
       " 1015.49,\n",
       " 954.48,\n",
       " 1175.99,\n",
       " 1088.48,\n",
       " 1230.0,\n",
       " 927.49,\n",
       " 1196.49,\n",
       " 1307.99,\n",
       " 1039.49,\n",
       " 944.98,\n",
       " 934.0,\n",
       " 3220.0,\n",
       " 1044.99,\n",
       " 2115.49,\n",
       " 1180.0,\n",
       " 980.0,\n",
       " 1015.49,\n",
       " 1030.67,\n",
       " 946.98,\n",
       " 950.0,\n",
       " 987.99,\n",
       " 960.49,\n",
       " 1234.0,\n",
       " 950.48,\n",
       " 1005.98,\n",
       " 1031.49,\n",
       " 960.49]"
      ]
     },
     "execution_count": 10,
     "metadata": {},
     "output_type": "execute_result"
    }
   ],
   "source": [
    "# Berikut ini merupakan nilai - nilai pada kolom price yang tergolong data outlier atau data yang menyimpang dari rata-rata\n",
    "cari_outlier(df['price'])"
   ]
  },
  {
   "cell_type": "code",
   "execution_count": 11,
   "metadata": {},
   "outputs": [
    {
     "data": {
      "text/plain": [
       "28"
      ]
     },
     "execution_count": 11,
     "metadata": {},
     "output_type": "execute_result"
    }
   ],
   "source": [
    "# Jumlah data outlier dari price\n",
    "outlier = cari_outlier(df['price'])\n",
    "len(outlier)"
   ]
  },
  {
   "cell_type": "code",
   "execution_count": 12,
   "metadata": {},
   "outputs": [
    {
     "data": {
      "text/plain": [
       "<matplotlib.axes._subplots.AxesSubplot at 0x1f66ae44bc8>"
      ]
     },
     "execution_count": 12,
     "metadata": {},
     "output_type": "execute_result"
    },
    {
     "data": {
      "image/png": "[encoded data removed]",
      "text/plain": [
       "<Figure size 1440x216 with 1 Axes>"
      ]
     },
     "metadata": {
      "needs_background": "light"
     },
     "output_type": "display_data"
    }
   ],
   "source": [
    "#Bedasarkan gambar dibawah data outlier ditunjukan denggan titik yang berada pada luar diagram dengan jumlah 28 outlier\n",
    "plt.subplots(figsize=(20,3))\n",
    "sns.set(rc={'figure.figsize':(8,11)})\n",
    "sns.boxplot(x='price', data=df)"
   ]
  },
  {
   "cell_type": "code",
   "execution_count": 13,
   "metadata": {
    "scrolled": true
   },
   "outputs": [
    {
     "data": {
      "text/plain": [
       "[]"
      ]
     },
     "execution_count": 13,
     "metadata": {},
     "output_type": "execute_result"
    }
   ],
   "source": [
    "# Berikut ini merupakan nilai pada kolom perc_of_unit_sold yang tergolong data outlier/data yang menyimpang dari rata-rata\n",
    "cari_outlier(df['perc_of_unit_sold'])"
   ]
  },
  {
   "cell_type": "code",
   "execution_count": 14,
   "metadata": {},
   "outputs": [
    {
     "data": {
      "text/plain": [
       "[60.0,\n",
       " 20.0,\n",
       " 60.0,\n",
       " 60.0,\n",
       " 56.0,\n",
       " 60.0,\n",
       " 40.0,\n",
       " 60.0,\n",
       " 20.0,\n",
       " 60.0,\n",
       " 60.0,\n",
       " 60.0,\n",
       " 40.0,\n",
       " 60.0,\n",
       " 50.0,\n",
       " 40.0,\n",
       " 40.0]"
      ]
     },
     "execution_count": 14,
     "metadata": {},
     "output_type": "execute_result"
    }
   ],
   "source": [
    "#Berikut ini merupakan nilai - nilai pada kolom rating yang tergolong data outlier atau data yang menyimpan dari rata-rata\n",
    "cari_outlier(df['rating'])"
   ]
  },
  {
   "cell_type": "code",
   "execution_count": 15,
   "metadata": {},
   "outputs": [
    {
     "data": {
      "text/plain": [
       "17"
      ]
     },
     "execution_count": 15,
     "metadata": {},
     "output_type": "execute_result"
    }
   ],
   "source": [
    "#Jumlah data outlier rating\n",
    "outlier = cari_outlier(df['rating'])\n",
    "len(outlier)"
   ]
  },
  {
   "cell_type": "code",
   "execution_count": 16,
   "metadata": {
    "scrolled": false
   },
   "outputs": [
    {
     "data": {
      "text/plain": [
       "<matplotlib.axes._subplots.AxesSubplot at 0x1f66b6f8c08>"
      ]
     },
     "execution_count": 16,
     "metadata": {},
     "output_type": "execute_result"
    },
    {
     "data": {
      "image/png": "[encoded data removed]",
      "text/plain": [
       "<Figure size 1440x216 with 1 Axes>"
      ]
     },
     "metadata": {},
     "output_type": "display_data"
    }
   ],
   "source": [
    "#Bedasarkan gambar dibawah data outlier ditunjukan denggan titik yang berada pada luar diagram dengan jumlah 17 outlier\n",
    "plt.subplots(figsize=(20,3))\n",
    "sns.set(rc={'figure.figsize':(8,11)})\n",
    "sns.boxplot(x='rating', data=df)"
   ]
  },
  {
   "cell_type": "code",
   "execution_count": 17,
   "metadata": {
    "scrolled": true
   },
   "outputs": [
    {
     "data": {
      "text/plain": [
       "[2094.0,\n",
       " 2990.0,\n",
       " 2749.0,\n",
       " 2865.0,\n",
       " 2610.0,\n",
       " 2420.0,\n",
       " 2370.0,\n",
       " 5481.0,\n",
       " 3124.0,\n",
       " 26220.0,\n",
       " 3731.0,\n",
       " 29970.0,\n",
       " 2730.0,\n",
       " 2202.0,\n",
       " 2990.0,\n",
       " 5870.0,\n",
       " 2990.0,\n",
       " 4316.0,\n",
       " 2240.0,\n",
       " 2243.0,\n",
       " 2865.0,\n",
       " 4481.0,\n",
       " 4623.0,\n",
       " 3749.0,\n",
       " 5231.0,\n",
       " 4490.0,\n",
       " 5061.0,\n",
       " 4031.0,\n",
       " 3374.0,\n",
       " 2240.0,\n",
       " 2455.0,\n",
       " 2960.0,\n",
       " 5587.0,\n",
       " 4110.0,\n",
       " 2624.0]"
      ]
     },
     "execution_count": 17,
     "metadata": {},
     "output_type": "execute_result"
    }
   ],
   "source": [
    "#Berikut ini merupakan nilai - nilai pada kolom Original_price yang tergolong data outlier atau data yang menyimpan dari rata-rata\n",
    "cari_outlier(df['Original_price'])"
   ]
  },
  {
   "cell_type": "code",
   "execution_count": 18,
   "metadata": {
    "scrolled": true
   },
   "outputs": [
    {
     "data": {
      "text/plain": [
       "35"
      ]
     },
     "execution_count": 18,
     "metadata": {},
     "output_type": "execute_result"
    }
   ],
   "source": [
    "#Jumlah data outlier Original_price\n",
    "outlier = cari_outlier(df['Original_price'])\n",
    "len(outlier)"
   ]
  },
  {
   "cell_type": "code",
   "execution_count": 19,
   "metadata": {},
   "outputs": [
    {
     "data": {
      "text/plain": [
       "<matplotlib.axes._subplots.AxesSubplot at 0x1f66b5d3d48>"
      ]
     },
     "execution_count": 19,
     "metadata": {},
     "output_type": "execute_result"
    },
    {
     "data": {
      "image/png": "[encoded data removed]",
      "text/plain": [
       "<Figure size 1440x216 with 1 Axes>"
      ]
     },
     "metadata": {},
     "output_type": "display_data"
    }
   ],
   "source": [
    "#Bedasarkan gambar dibawah data outlier ditunjukan denggan titik yang berada pada luar diagram dengan jumlah 35 outlier\n",
    "plt.subplots(figsize=(20,3))\n",
    "sns.set(rc={'figure.figsize':(8,11)})\n",
    "sns.boxplot(x='Original_price', data=df)"
   ]
  },
  {
   "cell_type": "markdown",
   "metadata": {},
   "source": [
    "## Visualization"
   ]
  },
  {
   "cell_type": "code",
   "execution_count": 20,
   "metadata": {},
   "outputs": [
    {
     "data": {
      "text/plain": [
       "'\\nJika dilihat pada diagram dibahwa terlihat bahwa distrbusi pada kolom price terlihat normal \\nkarena jika dilihat dari range price yang berada pada kisaran 0-3500 sangat mendominasi \\ndan jika dilihat secara seksama garis menunjukan bell curve\\n'"
      ]
     },
     "execution_count": 20,
     "metadata": {},
     "output_type": "execute_result"
    },
    {
     "data": {
      "image/png": "[encoded data removed]",
      "text/plain": [
       "<Figure size 576x792 with 1 Axes>"
      ]
     },
     "metadata": {},
     "output_type": "display_data"
    }
   ],
   "source": [
    "sns.set(rc={'figure.figsize':(8,11)})\n",
    "sns.distplot(df['price'])\n",
    "\n",
    "'''\n",
    "Jika dilihat pada diagram dibahwa terlihat bahwa distrbusi pada kolom price terlihat normal \n",
    "karena jika dilihat dari range price yang berada pada kisaran 0-3500 sangat mendominasi \n",
    "dan jika dilihat secara seksama garis menunjukan bell curve\n",
    "'''"
   ]
  },
  {
   "cell_type": "code",
   "execution_count": 21,
   "metadata": {
    "scrolled": false
   },
   "outputs": [
    {
     "data": {
      "text/plain": [
       "'\\nJika dilihat pada diagram dibawah, dapat dikatakann distubusi pada kolom perc_of_unit_sold dikatan normal karena \\nsalah berbentuk bell curve\\n'"
      ]
     },
     "execution_count": 21,
     "metadata": {},
     "output_type": "execute_result"
    },
    {
     "data": {
      "image/png": "[encoded data removed]",
      "text/plain": [
       "<Figure size 576x792 with 1 Axes>"
      ]
     },
     "metadata": {},
     "output_type": "display_data"
    }
   ],
   "source": [
    "sns.set(rc={'figure.figsize':(8,11)})\n",
    "sns.distplot(df['perc_of_unit_sold'])\n",
    "\n",
    "'''\n",
    "Jika dilihat pada diagram dibawah, dapat dikatakann distubusi pada kolom perc_of_unit_sold dikatan normal karena \n",
    "salah berbentuk bell curve\n",
    "'''"
   ]
  },
  {
   "cell_type": "code",
   "execution_count": 22,
   "metadata": {},
   "outputs": [
    {
     "data": {
      "text/plain": [
       "'\\nJika dilihat pada diagram dibawah, dapat dikatakann distubusi pada kolom Original_price dikatan normal karena \\nnamun tidak terlalu terlihat bell curve pada diagram\\n'"
      ]
     },
     "execution_count": 22,
     "metadata": {},
     "output_type": "execute_result"
    },
    {
     "data": {
      "image/png": "[encoded data removed]",
      "text/plain": [
       "<Figure size 576x792 with 1 Axes>"
      ]
     },
     "metadata": {},
     "output_type": "display_data"
    }
   ],
   "source": [
    "sns.set(rc={'figure.figsize':(8,11)})\n",
    "sns.distplot(df['Original_price'])\n",
    "\n",
    "'''\n",
    "Jika dilihat pada diagram dibawah, dapat dikatakann distubusi pada kolom Original_price dikatan normal karena \n",
    "namun tidak terlalu terlihat bell curve pada diagram\n",
    "'''"
   ]
  },
  {
   "cell_type": "code",
   "execution_count": 23,
   "metadata": {
    "scrolled": false
   },
   "outputs": [
    {
     "data": {
      "text/plain": [
       "Text(0.5, 1, 'Corellation Between Features :  price,perc_of_unit_sold,rating,Original_price')"
      ]
     },
     "execution_count": 23,
     "metadata": {},
     "output_type": "execute_result"
    },
    {
     "data": {
      "image/png": "[encoded data removed]",
      "text/plain": [
       "<Figure size 864x432 with 2 Axes>"
      ]
     },
     "metadata": {},
     "output_type": "display_data"
    }
   ],
   "source": [
    "plt.figure(figsize=(12,6))\n",
    "sns.heatmap(df[['price','perc_of_unit_sold','rating','Original_price']].corr('spearman'), annot = True)\n",
    "plt.title('Corellation Between Features :  price,perc_of_unit_sold,rating,Original_price')"
   ]
  },
  {
   "cell_type": "markdown",
   "metadata": {},
   "source": [
    "## Business Insight"
   ]
  },
  {
   "cell_type": "markdown",
   "metadata": {},
   "source": [
    "Pada diagram diatas menunjukan bahwa ketiga kolom tidak ada yang memiliki korelasi dengan nilai korelasi yang tidak mendekati angka 1. \n",
    "Hanya price dan Original_price dan hal tersebut wajar karena nilai dari Original_price adalah dasar dalam penentuan nilai price tersebut\n",
    "\n",
    "Alasan mengunakan metodh spearman adalah data tidak terdistribusi normal untuk ketiga kolom.\n",
    "\n",
    "Range korelasi dari 0 sampai 1, jika nilai mendekati 1 semakin kuat pula korelasinya, Artinya saat mendekati 1 fitur yang dibandingan dengan fitur lain sama-sama memiliki peranan kuat untuk mempengaruhi nilai satu sama lain. "
   ]
  }
 ],
 "metadata": {
  "kernelspec": {
   "display_name": "Python 3",
   "language": "python",
   "name": "python3"
  },
  "language_info": {
   "codemirror_mode": {
    "name": "ipython",
    "version": 3
   },
   "file_extension": ".py",
   "mimetype": "text/x-python",
   "name": "python",
   "nbconvert_exporter": "python",
   "pygments_lexer": "ipython3",
   "version": "3.7.6"
  }
 },
 "nbformat": 4,
 "nbformat_minor": 4
}
